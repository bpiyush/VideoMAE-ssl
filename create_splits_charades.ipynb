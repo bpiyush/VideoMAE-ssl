{
 "cells": [
  {
   "cell_type": "code",
   "execution_count": 1,
   "metadata": {},
   "outputs": [],
   "source": [
    "%load_ext autoreload\n",
    "%autoreload 2"
   ]
  },
  {
   "cell_type": "code",
   "execution_count": 4,
   "metadata": {},
   "outputs": [],
   "source": [
    "import os\n",
    "import numpy as np\n",
    "import pandas as pd"
   ]
  },
  {
   "cell_type": "code",
   "execution_count": 24,
   "metadata": {},
   "outputs": [
    {
     "data": {
      "text/plain": [
       "(1814, 11)"
      ]
     },
     "execution_count": 24,
     "metadata": {},
     "output_type": "execute_result"
    }
   ],
   "source": [
    "data_dir = \"/var/scratch/pbagad/datasets/Charades\"\n",
    "\n",
    "video_dir = os.path.join(data_dir, \"Charades_v1_480\")\n",
    "annot_dir = os.path.join(data_dir, \"annotations\")\n",
    "\n",
    "mode = \"test\"\n",
    "df_path = os.path.join(annot_dir, \"Charades_v1_{mode}.csv\".format(mode=mode))\n",
    "df = pd.read_csv(df_path)\n",
    "df = df[~df.actions.isnull()]\n",
    "df.shape"
   ]
  },
  {
   "cell_type": "code",
   "execution_count": 25,
   "metadata": {},
   "outputs": [],
   "source": [
    "def load_txt(path):\n",
    "    with open(path, \"r\") as f:\n",
    "        lines = f.readlines()\n",
    "    return [line.strip() for line in lines]"
   ]
  },
  {
   "cell_type": "code",
   "execution_count": 26,
   "metadata": {},
   "outputs": [
    {
     "data": {
      "text/plain": [
       "157"
      ]
     },
     "execution_count": 26,
     "metadata": {},
     "output_type": "execute_result"
    }
   ],
   "source": [
    "classes = load_txt(os.path.join(annot_dir, \"Charades_v1_classes.txt\"))\n",
    "len(classes)"
   ]
  },
  {
   "cell_type": "code",
   "execution_count": 27,
   "metadata": {},
   "outputs": [
    {
     "data": {
      "text/plain": [
       "157"
      ]
     },
     "execution_count": 27,
     "metadata": {},
     "output_type": "execute_result"
    }
   ],
   "source": [
    "class_id_to_name = dict()\n",
    "for string in classes:\n",
    "    class_id, class_name = string.split(\" \")[0], \" \".join(string.split(\" \")[1:])\n",
    "    class_id_to_name[class_id] = class_name\n",
    "len(class_id_to_name)"
   ]
  },
  {
   "cell_type": "code",
   "execution_count": 28,
   "metadata": {},
   "outputs": [
    {
     "data": {
      "text/plain": [
       "'Holding some clothes'"
      ]
     },
     "execution_count": 28,
     "metadata": {},
     "output_type": "execute_result"
    }
   ],
   "source": [
    "class_id_to_name[\"c000\"]"
   ]
  },
  {
   "cell_type": "code",
   "execution_count": 29,
   "metadata": {},
   "outputs": [
    {
     "data": {
      "text/plain": [
       "0                          [c077, c079, c080, c076, c075]\n",
       "1       [c137, c092, c152, c154, c059, c118, c151, c10...\n",
       "2                          [c059, c151, c148, c096, c155]\n",
       "3                                [c015, c087, c016, c154]\n",
       "4       [c067, c028, c059, c065, c068, c026, c153, c01...\n",
       "                              ...                        \n",
       "1858                                   [c149, c051, c152]\n",
       "1859    [c143, c154, c055, c148, c097, c008, c141, c12...\n",
       "1860                 [c112, c113, c008, c131, c141, c006]\n",
       "1861                       [c080, c097, c036, c076, c126]\n",
       "1862                       [c067, c069, c061, c097, c063]\n",
       "Name: classes, Length: 1814, dtype: object"
      ]
     },
     "execution_count": 29,
     "metadata": {},
     "output_type": "execute_result"
    }
   ],
   "source": [
    "df[\"classes\"] = df.actions.apply(lambda x: [y.split(\" \")[0] for y in x.split(\";\")])\n",
    "df[\"classes\"]"
   ]
  },
  {
   "cell_type": "code",
   "execution_count": 30,
   "metadata": {},
   "outputs": [
    {
     "data": {
      "text/html": [
       "<div>\n",
       "<style scoped>\n",
       "    .dataframe tbody tr th:only-of-type {\n",
       "        vertical-align: middle;\n",
       "    }\n",
       "\n",
       "    .dataframe tbody tr th {\n",
       "        vertical-align: top;\n",
       "    }\n",
       "\n",
       "    .dataframe thead th {\n",
       "        text-align: right;\n",
       "    }\n",
       "</style>\n",
       "<table border=\"1\" class=\"dataframe\">\n",
       "  <thead>\n",
       "    <tr style=\"text-align: right;\">\n",
       "      <th></th>\n",
       "      <th>id</th>\n",
       "      <th>classes</th>\n",
       "    </tr>\n",
       "  </thead>\n",
       "  <tbody>\n",
       "    <tr>\n",
       "      <th>0</th>\n",
       "      <td>YSKX3</td>\n",
       "      <td>[c077, c079, c080, c076, c075]</td>\n",
       "    </tr>\n",
       "    <tr>\n",
       "      <th>1</th>\n",
       "      <td>T5ECU</td>\n",
       "      <td>[c137, c092, c152, c154, c059, c118, c151, c10...</td>\n",
       "    </tr>\n",
       "    <tr>\n",
       "      <th>2</th>\n",
       "      <td>AAH6R</td>\n",
       "      <td>[c059, c151, c148, c096, c155]</td>\n",
       "    </tr>\n",
       "    <tr>\n",
       "      <th>3</th>\n",
       "      <td>015XE</td>\n",
       "      <td>[c015, c087, c016, c154]</td>\n",
       "    </tr>\n",
       "    <tr>\n",
       "      <th>4</th>\n",
       "      <td>TJZ0P</td>\n",
       "      <td>[c067, c028, c059, c065, c068, c026, c153, c01...</td>\n",
       "    </tr>\n",
       "  </tbody>\n",
       "</table>\n",
       "</div>"
      ],
      "text/plain": [
       "      id                                            classes\n",
       "0  YSKX3                     [c077, c079, c080, c076, c075]\n",
       "1  T5ECU  [c137, c092, c152, c154, c059, c118, c151, c10...\n",
       "2  AAH6R                     [c059, c151, c148, c096, c155]\n",
       "3  015XE                           [c015, c087, c016, c154]\n",
       "4  TJZ0P  [c067, c028, c059, c065, c068, c026, c153, c01..."
      ]
     },
     "execution_count": 30,
     "metadata": {},
     "output_type": "execute_result"
    }
   ],
   "source": [
    "_df = df[['id', 'classes']]\n",
    "_df.head()"
   ]
  },
  {
   "cell_type": "code",
   "execution_count": 31,
   "metadata": {},
   "outputs": [],
   "source": [
    "save_path = os.path.join(annot_dir, \"Charades_v1_{mode}_videomae.csv\".format(mode=mode))\n",
    "_df.to_csv(save_path, index=False)"
   ]
  },
  {
   "cell_type": "code",
   "execution_count": null,
   "metadata": {},
   "outputs": [],
   "source": []
  }
 ],
 "metadata": {
  "kernelspec": {
   "display_name": "videomae",
   "language": "python",
   "name": "python3"
  },
  "language_info": {
   "codemirror_mode": {
    "name": "ipython",
    "version": 3
   },
   "file_extension": ".py",
   "mimetype": "text/x-python",
   "name": "python",
   "nbconvert_exporter": "python",
   "pygments_lexer": "ipython3",
   "version": "3.6.13"
  },
  "orig_nbformat": 4
 },
 "nbformat": 4,
 "nbformat_minor": 2
}
